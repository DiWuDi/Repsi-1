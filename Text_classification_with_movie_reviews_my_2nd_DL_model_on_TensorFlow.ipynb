{
  "nbformat": 4,
  "nbformat_minor": 0,
  "metadata": {
    "colab": {
      "name": " Text classification with movie reviews_my 2nd DL model on TensorFlow",
      "version": "0.3.2",
      "provenance": [],
      "include_colab_link": true
    },
    "kernelspec": {
      "name": "python3",
      "display_name": "Python 3"
    }
  },
  "cells": [
    {
      "cell_type": "markdown",
      "metadata": {
        "id": "view-in-github",
        "colab_type": "text"
      },
      "source": [
        "[View in Colaboratory](https://colab.research.google.com/github/DiWuDi/Repsi-1/blob/master/Text_classification_with_movie_reviews_my_2nd_DL_model_on_TensorFlow.ipynb)"
      ]
    },
    {
      "metadata": {
        "id": "UW0m86R4iRs6",
        "colab_type": "code",
        "colab": {
          "base_uri": "https://localhost:8080/",
          "height": 34
        },
        "outputId": "5eccbcb5-8840-4543-c8a6-0529f6f60eef"
      },
      "cell_type": "code",
      "source": [
        "import tensorflow as tf\n",
        "from tensorflow import keras\n",
        "\n",
        "import numpy as np\n",
        "\n",
        "print(tf.__version__)"
      ],
      "execution_count": 1,
      "outputs": [
        {
          "output_type": "stream",
          "text": [
            "1.11.0\n"
          ],
          "name": "stdout"
        }
      ]
    },
    {
      "metadata": {
        "id": "2_wVDhiMi7H5",
        "colab_type": "code",
        "colab": {
          "base_uri": "https://localhost:8080/",
          "height": 51
        },
        "outputId": "5230bf1f-db9a-4ee4-f261-81795c0a13cd"
      },
      "cell_type": "code",
      "source": [
        "imdb = keras.datasets.imdb\n",
        "\n",
        "(train_data, train_labels), (test_data, test_labels) = imdb.load_data(num_words=10000)"
      ],
      "execution_count": 2,
      "outputs": [
        {
          "output_type": "stream",
          "text": [
            "Downloading data from https://storage.googleapis.com/tensorflow/tf-keras-datasets/imdb.npz\n",
            "17465344/17464789 [==============================] - 0s 0us/step\n"
          ],
          "name": "stdout"
        }
      ]
    },
    {
      "metadata": {
        "id": "MzF9nvK8i-sT",
        "colab_type": "code",
        "colab": {
          "base_uri": "https://localhost:8080/",
          "height": 34
        },
        "outputId": "bf1b60e6-b8d1-4c4a-a9be-552cbd68c96d"
      },
      "cell_type": "code",
      "source": [
        "print(\"Training entries: {}, labels: {}\".format(len(train_data), len(train_labels)))"
      ],
      "execution_count": 3,
      "outputs": [
        {
          "output_type": "stream",
          "text": [
            "Training entries: 25000, labels: 25000\n"
          ],
          "name": "stdout"
        }
      ]
    },
    {
      "metadata": {
        "id": "UXRg2ywOjNxS",
        "colab_type": "code",
        "colab": {
          "base_uri": "https://localhost:8080/",
          "height": 54
        },
        "outputId": "2153cf43-c455-432f-8259-fe6061d6e046"
      },
      "cell_type": "code",
      "source": [
        "print(train_data[0])"
      ],
      "execution_count": 4,
      "outputs": [
        {
          "output_type": "stream",
          "text": [
            "[1, 14, 22, 16, 43, 530, 973, 1622, 1385, 65, 458, 4468, 66, 3941, 4, 173, 36, 256, 5, 25, 100, 43, 838, 112, 50, 670, 2, 9, 35, 480, 284, 5, 150, 4, 172, 112, 167, 2, 336, 385, 39, 4, 172, 4536, 1111, 17, 546, 38, 13, 447, 4, 192, 50, 16, 6, 147, 2025, 19, 14, 22, 4, 1920, 4613, 469, 4, 22, 71, 87, 12, 16, 43, 530, 38, 76, 15, 13, 1247, 4, 22, 17, 515, 17, 12, 16, 626, 18, 2, 5, 62, 386, 12, 8, 316, 8, 106, 5, 4, 2223, 5244, 16, 480, 66, 3785, 33, 4, 130, 12, 16, 38, 619, 5, 25, 124, 51, 36, 135, 48, 25, 1415, 33, 6, 22, 12, 215, 28, 77, 52, 5, 14, 407, 16, 82, 2, 8, 4, 107, 117, 5952, 15, 256, 4, 2, 7, 3766, 5, 723, 36, 71, 43, 530, 476, 26, 400, 317, 46, 7, 4, 2, 1029, 13, 104, 88, 4, 381, 15, 297, 98, 32, 2071, 56, 26, 141, 6, 194, 7486, 18, 4, 226, 22, 21, 134, 476, 26, 480, 5, 144, 30, 5535, 18, 51, 36, 28, 224, 92, 25, 104, 4, 226, 65, 16, 38, 1334, 88, 12, 16, 283, 5, 16, 4472, 113, 103, 32, 15, 16, 5345, 19, 178, 32]\n"
          ],
          "name": "stdout"
        }
      ]
    },
    {
      "metadata": {
        "id": "Zs3GWsSejesD",
        "colab_type": "code",
        "colab": {
          "base_uri": "https://localhost:8080/",
          "height": 34
        },
        "outputId": "ffb4c59c-01df-495d-99ca-fada8d62467e"
      },
      "cell_type": "code",
      "source": [
        "len(train_data[0]), len(train_data[1])"
      ],
      "execution_count": 5,
      "outputs": [
        {
          "output_type": "execute_result",
          "data": {
            "text/plain": [
              "(218, 189)"
            ]
          },
          "metadata": {
            "tags": []
          },
          "execution_count": 5
        }
      ]
    },
    {
      "metadata": {
        "id": "YsCz9RIojmw7",
        "colab_type": "code",
        "colab": {
          "base_uri": "https://localhost:8080/",
          "height": 51
        },
        "outputId": "57257478-73cc-4cdf-c4c6-0330432978b0"
      },
      "cell_type": "code",
      "source": [
        "# A dictionary mapping words to an integer index\n",
        "word_index = imdb.get_word_index()\n",
        "\n",
        "# The first indices are reserved\n",
        "word_index = {k:(v+3) for k,v in word_index.items()} \n",
        "word_index[\"<PAD>\"] = 0\n",
        "word_index[\"<START>\"] = 1\n",
        "word_index[\"<UNK>\"] = 2  # unknown\n",
        "word_index[\"<UNUSED>\"] = 3\n",
        "\n",
        "reverse_word_index = dict([(value, key) for (key, value) in word_index.items()])\n",
        "\n",
        "def decode_review(text):\n",
        "    return ' '.join([reverse_word_index.get(i, '?') for i in text])"
      ],
      "execution_count": 6,
      "outputs": [
        {
          "output_type": "stream",
          "text": [
            "Downloading data from https://storage.googleapis.com/tensorflow/tf-keras-datasets/imdb_word_index.json\n",
            "1646592/1641221 [==============================] - 0s 0us/step\n"
          ],
          "name": "stdout"
        }
      ]
    },
    {
      "metadata": {
        "id": "Y5mO5FUkjqph",
        "colab_type": "code",
        "colab": {
          "base_uri": "https://localhost:8080/",
          "height": 54
        },
        "outputId": "6139f079-3f2f-4fe0-da70-9c82f5c9c987"
      },
      "cell_type": "code",
      "source": [
        "decode_review(train_data[0])"
      ],
      "execution_count": 7,
      "outputs": [
        {
          "output_type": "execute_result",
          "data": {
            "text/plain": [
              "\"<START> this film was just brilliant casting location scenery story direction everyone's really suited the part they played and you could just imagine being there robert <UNK> is an amazing actor and now the same being director <UNK> father came from the same scottish island as myself so i loved the fact there was a real connection with this film the witty remarks throughout the film were great it was just brilliant so much that i bought the film as soon as it was released for <UNK> and would recommend it to everyone to watch and the fly fishing was amazing really cried at the end it was so sad and you know what they say if you cry at a film it must have been good and this definitely was also <UNK> to the two little boy's that played the <UNK> of norman and paul they were just brilliant children are often left out of the <UNK> list i think because the stars that play them all grown up are such a big profile for the whole film but these children are amazing and should be praised for what they have done don't you think the whole story was so lovely because it was true and was someone's life after all that was shared with us all\""
            ]
          },
          "metadata": {
            "tags": []
          },
          "execution_count": 7
        }
      ]
    },
    {
      "metadata": {
        "id": "__YJtkkSj97N",
        "colab_type": "code",
        "colab": {}
      },
      "cell_type": "code",
      "source": [
        "train_data = keras.preprocessing.sequence.pad_sequences(train_data,\n",
        "                                                        value=word_index[\"<PAD>\"],\n",
        "                                                        padding='post',\n",
        "                                                        maxlen=256)\n",
        "\n",
        "test_data = keras.preprocessing.sequence.pad_sequences(test_data,\n",
        "                                                       value=word_index[\"<PAD>\"],\n",
        "                                                       padding='post',\n",
        "                                                       maxlen=256)"
      ],
      "execution_count": 0,
      "outputs": []
    },
    {
      "metadata": {
        "id": "hXE-ntFokDaV",
        "colab_type": "code",
        "colab": {
          "base_uri": "https://localhost:8080/",
          "height": 34
        },
        "outputId": "90cf319a-8b68-4005-a88d-841354f46119"
      },
      "cell_type": "code",
      "source": [
        "len(train_data[0]), len(train_data[1])"
      ],
      "execution_count": 9,
      "outputs": [
        {
          "output_type": "execute_result",
          "data": {
            "text/plain": [
              "(256, 256)"
            ]
          },
          "metadata": {
            "tags": []
          },
          "execution_count": 9
        }
      ]
    },
    {
      "metadata": {
        "id": "sqGPz7hYkKsM",
        "colab_type": "code",
        "colab": {
          "base_uri": "https://localhost:8080/",
          "height": 340
        },
        "outputId": "7bf50e52-d21a-45e5-d6be-d74c26146494"
      },
      "cell_type": "code",
      "source": [
        "print(train_data[0])"
      ],
      "execution_count": 10,
      "outputs": [
        {
          "output_type": "stream",
          "text": [
            "[   1   14   22   16   43  530  973 1622 1385   65  458 4468   66 3941\n",
            "    4  173   36  256    5   25  100   43  838  112   50  670    2    9\n",
            "   35  480  284    5  150    4  172  112  167    2  336  385   39    4\n",
            "  172 4536 1111   17  546   38   13  447    4  192   50   16    6  147\n",
            " 2025   19   14   22    4 1920 4613  469    4   22   71   87   12   16\n",
            "   43  530   38   76   15   13 1247    4   22   17  515   17   12   16\n",
            "  626   18    2    5   62  386   12    8  316    8  106    5    4 2223\n",
            " 5244   16  480   66 3785   33    4  130   12   16   38  619    5   25\n",
            "  124   51   36  135   48   25 1415   33    6   22   12  215   28   77\n",
            "   52    5   14  407   16   82    2    8    4  107  117 5952   15  256\n",
            "    4    2    7 3766    5  723   36   71   43  530  476   26  400  317\n",
            "   46    7    4    2 1029   13  104   88    4  381   15  297   98   32\n",
            " 2071   56   26  141    6  194 7486   18    4  226   22   21  134  476\n",
            "   26  480    5  144   30 5535   18   51   36   28  224   92   25  104\n",
            "    4  226   65   16   38 1334   88   12   16  283    5   16 4472  113\n",
            "  103   32   15   16 5345   19  178   32    0    0    0    0    0    0\n",
            "    0    0    0    0    0    0    0    0    0    0    0    0    0    0\n",
            "    0    0    0    0    0    0    0    0    0    0    0    0    0    0\n",
            "    0    0    0    0]\n"
          ],
          "name": "stdout"
        }
      ]
    },
    {
      "metadata": {
        "id": "Gv-dxa6TkO-P",
        "colab_type": "code",
        "colab": {
          "base_uri": "https://localhost:8080/",
          "height": 272
        },
        "outputId": "ccc92207-47b0-497c-b07b-671ee9bc0e1c"
      },
      "cell_type": "code",
      "source": [
        "# input shape is the vocabulary count used for the movie reviews (10,000 words)\n",
        "vocab_size = 10000\n",
        "\n",
        "model = keras.Sequential()\n",
        "model.add(keras.layers.Embedding(vocab_size, 16))\n",
        "model.add(keras.layers.GlobalAveragePooling1D())\n",
        "model.add(keras.layers.Dense(16, activation=tf.nn.relu))\n",
        "model.add(keras.layers.Dense(1, activation=tf.nn.sigmoid))\n",
        "\n",
        "model.summary()"
      ],
      "execution_count": 11,
      "outputs": [
        {
          "output_type": "stream",
          "text": [
            "_________________________________________________________________\n",
            "Layer (type)                 Output Shape              Param #   \n",
            "=================================================================\n",
            "embedding (Embedding)        (None, None, 16)          160000    \n",
            "_________________________________________________________________\n",
            "global_average_pooling1d (Gl (None, 16)                0         \n",
            "_________________________________________________________________\n",
            "dense (Dense)                (None, 16)                272       \n",
            "_________________________________________________________________\n",
            "dense_1 (Dense)              (None, 1)                 17        \n",
            "=================================================================\n",
            "Total params: 160,289\n",
            "Trainable params: 160,289\n",
            "Non-trainable params: 0\n",
            "_________________________________________________________________\n"
          ],
          "name": "stdout"
        }
      ]
    },
    {
      "metadata": {
        "id": "-7V01YQDkSpd",
        "colab_type": "code",
        "colab": {}
      },
      "cell_type": "code",
      "source": [
        "model.compile(optimizer=tf.train.AdamOptimizer(),\n",
        "              loss='binary_crossentropy',\n",
        "              metrics=['accuracy'])"
      ],
      "execution_count": 0,
      "outputs": []
    },
    {
      "metadata": {
        "id": "SuUd4PeJkbvw",
        "colab_type": "code",
        "colab": {}
      },
      "cell_type": "code",
      "source": [
        "x_val = train_data[:10000]\n",
        "partial_x_train = train_data[10000:]\n",
        "\n",
        "y_val = train_labels[:10000]\n",
        "partial_y_train = train_labels[10000:]"
      ],
      "execution_count": 0,
      "outputs": []
    },
    {
      "metadata": {
        "id": "_26ggRMBkexM",
        "colab_type": "code",
        "colab": {
          "base_uri": "https://localhost:8080/",
          "height": 1394
        },
        "outputId": "41602886-ae93-413e-b067-16517fadc50c"
      },
      "cell_type": "code",
      "source": [
        "history = model.fit(partial_x_train,\n",
        "                    partial_y_train,\n",
        "                    epochs=40,\n",
        "                    batch_size=512,\n",
        "                    validation_data=(x_val, y_val),\n",
        "                    verbose=1)"
      ],
      "execution_count": 14,
      "outputs": [
        {
          "output_type": "stream",
          "text": [
            "Train on 15000 samples, validate on 10000 samples\n",
            "Epoch 1/40\n",
            "15000/15000 [==============================] - 1s 77us/step - loss: 0.6914 - acc: 0.5586 - val_loss: 0.6893 - val_acc: 0.5923\n",
            "Epoch 2/40\n",
            "15000/15000 [==============================] - 1s 60us/step - loss: 0.6851 - acc: 0.6783 - val_loss: 0.6813 - val_acc: 0.7367\n",
            "Epoch 3/40\n",
            "15000/15000 [==============================] - 1s 62us/step - loss: 0.6734 - acc: 0.7489 - val_loss: 0.6673 - val_acc: 0.7424\n",
            "Epoch 4/40\n",
            "15000/15000 [==============================] - 1s 62us/step - loss: 0.6539 - acc: 0.7697 - val_loss: 0.6459 - val_acc: 0.7547\n",
            "Epoch 5/40\n",
            "15000/15000 [==============================] - 1s 62us/step - loss: 0.6254 - acc: 0.7900 - val_loss: 0.6154 - val_acc: 0.7830\n",
            "Epoch 6/40\n",
            "15000/15000 [==============================] - 1s 63us/step - loss: 0.5892 - acc: 0.8093 - val_loss: 0.5799 - val_acc: 0.7987\n",
            "Epoch 7/40\n",
            "15000/15000 [==============================] - 1s 62us/step - loss: 0.5478 - acc: 0.8267 - val_loss: 0.5416 - val_acc: 0.8143\n",
            "Epoch 8/40\n",
            "15000/15000 [==============================] - 1s 63us/step - loss: 0.5050 - acc: 0.8415 - val_loss: 0.5033 - val_acc: 0.8272\n",
            "Epoch 9/40\n",
            "15000/15000 [==============================] - 1s 61us/step - loss: 0.4641 - acc: 0.8529 - val_loss: 0.4678 - val_acc: 0.8380\n",
            "Epoch 10/40\n",
            "15000/15000 [==============================] - 1s 62us/step - loss: 0.4261 - acc: 0.8646 - val_loss: 0.4366 - val_acc: 0.8444\n",
            "Epoch 11/40\n",
            "15000/15000 [==============================] - 1s 63us/step - loss: 0.3931 - acc: 0.8757 - val_loss: 0.4120 - val_acc: 0.8503\n",
            "Epoch 12/40\n",
            "15000/15000 [==============================] - 1s 61us/step - loss: 0.3646 - acc: 0.8826 - val_loss: 0.3880 - val_acc: 0.8573\n",
            "Epoch 13/40\n",
            "15000/15000 [==============================] - 1s 62us/step - loss: 0.3392 - acc: 0.8891 - val_loss: 0.3704 - val_acc: 0.8628\n",
            "Epoch 14/40\n",
            "15000/15000 [==============================] - 1s 61us/step - loss: 0.3178 - acc: 0.8947 - val_loss: 0.3546 - val_acc: 0.8672\n",
            "Epoch 15/40\n",
            "15000/15000 [==============================] - 1s 63us/step - loss: 0.2993 - acc: 0.9003 - val_loss: 0.3421 - val_acc: 0.8709\n",
            "Epoch 16/40\n",
            "15000/15000 [==============================] - 1s 63us/step - loss: 0.2834 - acc: 0.9021 - val_loss: 0.3319 - val_acc: 0.8733\n",
            "Epoch 17/40\n",
            "15000/15000 [==============================] - 1s 63us/step - loss: 0.2683 - acc: 0.9095 - val_loss: 0.3231 - val_acc: 0.8756\n",
            "Epoch 18/40\n",
            "15000/15000 [==============================] - 1s 61us/step - loss: 0.2552 - acc: 0.9137 - val_loss: 0.3158 - val_acc: 0.8790\n",
            "Epoch 19/40\n",
            "15000/15000 [==============================] - 1s 62us/step - loss: 0.2432 - acc: 0.9175 - val_loss: 0.3096 - val_acc: 0.8808\n",
            "Epoch 20/40\n",
            "15000/15000 [==============================] - 1s 62us/step - loss: 0.2327 - acc: 0.9209 - val_loss: 0.3048 - val_acc: 0.8802\n",
            "Epoch 21/40\n",
            "15000/15000 [==============================] - 1s 62us/step - loss: 0.2223 - acc: 0.9247 - val_loss: 0.3002 - val_acc: 0.8813\n",
            "Epoch 22/40\n",
            "15000/15000 [==============================] - 1s 62us/step - loss: 0.2130 - acc: 0.9275 - val_loss: 0.2969 - val_acc: 0.8821\n",
            "Epoch 23/40\n",
            "15000/15000 [==============================] - 1s 61us/step - loss: 0.2044 - acc: 0.9301 - val_loss: 0.2942 - val_acc: 0.8821\n",
            "Epoch 24/40\n",
            "15000/15000 [==============================] - 1s 62us/step - loss: 0.1959 - acc: 0.9341 - val_loss: 0.2911 - val_acc: 0.8834\n",
            "Epoch 25/40\n",
            "15000/15000 [==============================] - 1s 62us/step - loss: 0.1883 - acc: 0.9381 - val_loss: 0.2890 - val_acc: 0.8850\n",
            "Epoch 26/40\n",
            "15000/15000 [==============================] - 1s 62us/step - loss: 0.1809 - acc: 0.9409 - val_loss: 0.2878 - val_acc: 0.8846\n",
            "Epoch 27/40\n",
            "15000/15000 [==============================] - 1s 61us/step - loss: 0.1746 - acc: 0.9443 - val_loss: 0.2867 - val_acc: 0.8845\n",
            "Epoch 28/40\n",
            "15000/15000 [==============================] - 1s 62us/step - loss: 0.1679 - acc: 0.9469 - val_loss: 0.2856 - val_acc: 0.8854\n",
            "Epoch 29/40\n",
            "15000/15000 [==============================] - 1s 62us/step - loss: 0.1618 - acc: 0.9483 - val_loss: 0.2850 - val_acc: 0.8859\n",
            "Epoch 30/40\n",
            "15000/15000 [==============================] - 1s 63us/step - loss: 0.1564 - acc: 0.9503 - val_loss: 0.2852 - val_acc: 0.8861\n",
            "Epoch 31/40\n",
            "15000/15000 [==============================] - 1s 62us/step - loss: 0.1502 - acc: 0.9540 - val_loss: 0.2854 - val_acc: 0.8858\n",
            "Epoch 32/40\n",
            "15000/15000 [==============================] - 1s 61us/step - loss: 0.1452 - acc: 0.9559 - val_loss: 0.2861 - val_acc: 0.8860\n",
            "Epoch 33/40\n",
            "15000/15000 [==============================] - 1s 61us/step - loss: 0.1397 - acc: 0.9581 - val_loss: 0.2868 - val_acc: 0.8865\n",
            "Epoch 34/40\n",
            "15000/15000 [==============================] - 1s 61us/step - loss: 0.1349 - acc: 0.9604 - val_loss: 0.2875 - val_acc: 0.8863\n",
            "Epoch 35/40\n",
            "15000/15000 [==============================] - 1s 62us/step - loss: 0.1306 - acc: 0.9617 - val_loss: 0.2887 - val_acc: 0.8857\n",
            "Epoch 36/40\n",
            "15000/15000 [==============================] - 1s 62us/step - loss: 0.1255 - acc: 0.9652 - val_loss: 0.2903 - val_acc: 0.8859\n",
            "Epoch 37/40\n",
            "15000/15000 [==============================] - 1s 61us/step - loss: 0.1214 - acc: 0.9660 - val_loss: 0.2924 - val_acc: 0.8860\n",
            "Epoch 38/40\n",
            "15000/15000 [==============================] - 1s 62us/step - loss: 0.1178 - acc: 0.9667 - val_loss: 0.2933 - val_acc: 0.8853\n",
            "Epoch 39/40\n",
            "15000/15000 [==============================] - 1s 62us/step - loss: 0.1131 - acc: 0.9687 - val_loss: 0.2953 - val_acc: 0.8848\n",
            "Epoch 40/40\n",
            "15000/15000 [==============================] - 1s 62us/step - loss: 0.1092 - acc: 0.9695 - val_loss: 0.2972 - val_acc: 0.8854\n"
          ],
          "name": "stdout"
        }
      ]
    },
    {
      "metadata": {
        "id": "VKrCw6dCkhi2",
        "colab_type": "code",
        "colab": {
          "base_uri": "https://localhost:8080/",
          "height": 51
        },
        "outputId": "0f7bee09-b370-4627-ffb8-bdaca62ec6ba"
      },
      "cell_type": "code",
      "source": [
        "results = model.evaluate(test_data, test_labels)\n",
        "\n",
        "print(results)"
      ],
      "execution_count": 15,
      "outputs": [
        {
          "output_type": "stream",
          "text": [
            "25000/25000 [==============================] - 1s 37us/step\n",
            "[0.31635948804855346, 0.87384]\n"
          ],
          "name": "stdout"
        }
      ]
    },
    {
      "metadata": {
        "id": "esG-_amekur4",
        "colab_type": "code",
        "colab": {
          "base_uri": "https://localhost:8080/",
          "height": 34
        },
        "outputId": "53ed8210-3f83-4d5b-d1b7-e8636797c92f"
      },
      "cell_type": "code",
      "source": [
        "history_dict = history.history\n",
        "history_dict.keys()"
      ],
      "execution_count": 16,
      "outputs": [
        {
          "output_type": "execute_result",
          "data": {
            "text/plain": [
              "dict_keys(['val_loss', 'val_acc', 'loss', 'acc'])"
            ]
          },
          "metadata": {
            "tags": []
          },
          "execution_count": 16
        }
      ]
    },
    {
      "metadata": {
        "id": "l6fT6TDmkyVG",
        "colab_type": "code",
        "colab": {
          "base_uri": "https://localhost:8080/",
          "height": 376
        },
        "outputId": "91b54374-1174-4628-88ed-51b4e5438658"
      },
      "cell_type": "code",
      "source": [
        "import matplotlib.pyplot as plt\n",
        "\n",
        "acc = history.history['acc']\n",
        "val_acc = history.history['val_acc']\n",
        "loss = history.history['loss']\n",
        "val_loss = history.history['val_loss']\n",
        "\n",
        "epochs = range(1, len(acc) + 1)\n",
        "\n",
        "# \"bo\" is for \"blue dot\"\n",
        "plt.plot(epochs, loss, 'bo', label='Training loss')\n",
        "# b is for \"solid blue line\"\n",
        "plt.plot(epochs, val_loss, 'b', label='Validation loss')\n",
        "plt.title('Training and validation loss')\n",
        "plt.xlabel('Epochs')\n",
        "plt.ylabel('Loss')\n",
        "plt.legend()\n",
        "\n",
        "plt.show()\n"
      ],
      "execution_count": 17,
      "outputs": [
        {
          "output_type": "display_data",
          "data": {
            "image/png": "[encoded data removed]",
            "text/plain": [
              "<matplotlib.figure.Figure at 0x7f74cfd7d240>"
            ]
          },
          "metadata": {
            "tags": []
          }
        }
      ]
    },
    {
      "metadata": {
        "id": "evUmRoAsk1mM",
        "colab_type": "code",
        "colab": {
          "base_uri": "https://localhost:8080/",
          "height": 376
        },
        "outputId": "ee7be198-8d04-4d2f-a0cb-8423ec825a59"
      },
      "cell_type": "code",
      "source": [
        "plt.clf()   # clear figure\n",
        "acc_values = history_dict['acc']\n",
        "val_acc_values = history_dict['val_acc']\n",
        "\n",
        "plt.plot(epochs, acc, 'bo', label='Training acc')\n",
        "plt.plot(epochs, val_acc, 'b', label='Validation acc')\n",
        "plt.title('Training and validation accuracy')\n",
        "plt.xlabel('Epochs')\n",
        "plt.ylabel('Accuracy')\n",
        "plt.legend()\n",
        "\n",
        "plt.show()"
      ],
      "execution_count": 18,
      "outputs": [
        {
          "output_type": "display_data",
          "data": {
            "image/png": "[encoded data removed]",
            "text/plain": [
              "<matplotlib.figure.Figure at 0x7f74cfd7ed68>"
            ]
          },
          "metadata": {
            "tags": []
          }
        }
      ]
    },
    {
      "metadata": {
        "id": "GJE5_nZok42b",
        "colab_type": "code",
        "colab": {}
      },
      "cell_type": "code",
      "source": [
        "#@title MIT License\n",
        "#\n",
        "# Copyright (c) 2017 François Chollet\n",
        "#\n",
        "# Permission is hereby granted, free of charge, to any person obtaining a\n",
        "# copy of this software and associated documentation files (the \"Software\"),\n",
        "# to deal in the Software without restriction, including without limitation\n",
        "# the rights to use, copy, modify, merge, publish, distribute, sublicense,\n",
        "# and/or sell copies of the Software, and to permit persons to whom the\n",
        "# Software is furnished to do so, subject to the following conditions:\n",
        "#\n",
        "# The above copyright notice and this permission notice shall be included in\n",
        "# all copies or substantial portions of the Software.\n",
        "#\n",
        "# THE SOFTWARE IS PROVIDED \"AS IS\", WITHOUT WARRANTY OF ANY KIND, EXPRESS OR\n",
        "# IMPLIED, INCLUDING BUT NOT LIMITED TO THE WARRANTIES OF MERCHANTABILITY,\n",
        "# FITNESS FOR A PARTICULAR PURPOSE AND NONINFRINGEMENT. IN NO EVENT SHALL\n",
        "# THE AUTHORS OR COPYRIGHT HOLDERS BE LIABLE FOR ANY CLAIM, DAMAGES OR OTHER\n",
        "# LIABILITY, WHETHER IN AN ACTION OF CONTRACT, TORT OR OTHERWISE, ARISING\n",
        "# FROM, OUT OF OR IN CONNECTION WITH THE SOFTWARE OR THE USE OR OTHER\n",
        "# DEALINGS IN THE SOFTWARE."
      ],
      "execution_count": 0,
      "outputs": []
    }
  ]
}